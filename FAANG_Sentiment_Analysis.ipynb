{
  "nbformat": 4,
  "nbformat_minor": 0,
  "metadata": {
    "colab": {
      "name": "FAANG Sentiment Analysis.ipynb",
      "provenance": [],
      "authorship_tag": "ABX9TyNnd8b/TmbJCXlEOxXo6hyG",
      "include_colab_link": true
    },
    "kernelspec": {
      "name": "python3",
      "display_name": "Python 3"
    }
  },
  "cells": [
    {
      "cell_type": "markdown",
      "metadata": {
        "id": "view-in-github",
        "colab_type": "text"
      },
      "source": [
        "<a href=\"https://colab.research.google.com/github/ahmedbilal1510/FAANG_Stocks_Sentiment_Analysis_Project/blob/main/FAANG_Sentiment_Analysis.ipynb\" target=\"_parent\"><img src=\"https://colab.research.google.com/assets/colab-badge.svg\" alt=\"Open In Colab\"/></a>"
      ]
    },
    {
      "cell_type": "markdown",
      "metadata": {
        "id": "_iAT3H0ELGUn"
      },
      "source": [
        "# Sentimental analysis of stocks from Financial news (using Finviz.com)"
      ]
    },
    {
      "cell_type": "markdown",
      "metadata": {
        "id": "EDELMf9MLEAJ"
      },
      "source": [
        "1. Retreive the data from Finviz.com using BeautifulSoup"
      ]
    },
    {
      "cell_type": "code",
      "metadata": {
        "id": "nWb0aoyJRdoq",
        "colab": {
          "base_uri": "https://localhost:8080/"
        },
        "outputId": "a6274463-6458-4ca3-aa1c-181fe538b3a3"
      },
      "source": [
        "from urllib.request import urlopen, Request\n",
        "from bs4 import BeautifulSoup\n",
        "import nltk\n",
        "nltk.download('vader_lexicon')\n",
        "from nltk.sentiment.vader import SentimentIntensityAnalyzer\n",
        "import pandas as pd\n",
        "import matplotlib.pyplot as plt"
      ],
      "execution_count": 6,
      "outputs": [
        {
          "output_type": "stream",
          "text": [
            "[nltk_data] Downloading package vader_lexicon to /root/nltk_data...\n"
          ],
          "name": "stdout"
        }
      ]
    },
    {
      "cell_type": "code",
      "metadata": {
        "id": "jYpVYR4CJtYS"
      },
      "source": [
        "finviz_url = 'https://finviz.com/quote.ashx?t='\n",
        "tickers = ['AMZN', 'GOOG', 'FB', 'AAPL', 'NFLX']"
      ],
      "execution_count": 2,
      "outputs": []
    },
    {
      "cell_type": "code",
      "metadata": {
        "id": "5dG9r8l9JwKB"
      },
      "source": [
        "news_tables = {}\n",
        "for ticker in tickers:\n",
        "    url = finviz_url + ticker\n",
        "\n",
        "    req = Request(url=url, headers={'user-agent': 'my-app'})\n",
        "    response = urlopen(req)\n",
        "\n",
        "    html = BeautifulSoup(response, 'html')\n",
        "    news_table = html.find(id='news-table')\n",
        "    news_tables[ticker] = news_table"
      ],
      "execution_count": 3,
      "outputs": []
    },
    {
      "cell_type": "markdown",
      "metadata": {
        "id": "V6AbUNhYK94p"
      },
      "source": [
        "2. Parce the data we got from BeautifulSoup"
      ]
    },
    {
      "cell_type": "code",
      "metadata": {
        "id": "nuOZtQJUKTHV"
      },
      "source": [
        "parsed_data = []\n",
        "\n",
        "for ticker, news_table in news_tables.items():\n",
        "\n",
        "    for row in news_table.findAll('tr'):\n",
        "\n",
        "        title = row.a.text\n",
        "        date_data = row.td.text.split(' ')\n",
        "\n",
        "        if len(date_data) == 1:\n",
        "            time = date_data[0]\n",
        "        else:\n",
        "            date = date_data[0]\n",
        "            time = date_data[1]\n",
        "\n",
        "        parsed_data.append([ticker, date, time, title])"
      ],
      "execution_count": 4,
      "outputs": []
    },
    {
      "cell_type": "markdown",
      "metadata": {
        "id": "BW6aRLIIK5FH"
      },
      "source": [
        "3. Applying sentiment analysis on the titles of articles using nltk's vader_lexicon (Vader sentiment analysis)."
      ]
    },
    {
      "cell_type": "code",
      "metadata": {
        "id": "8152EAqvKW3a"
      },
      "source": [
        "df = pd.DataFrame(parsed_data, columns=['ticker', 'date', 'time', 'title'])\n",
        "\n",
        "vader = SentimentIntensityAnalyzer()\n",
        "\n",
        "f = lambda title: vader.polarity_scores(title)['compound']\n",
        "df['compound'] = df['title'].apply(f)"
      ],
      "execution_count": 7,
      "outputs": []
    },
    {
      "cell_type": "markdown",
      "metadata": {
        "id": "c09UGdJTKw4C"
      },
      "source": [
        "4. Visualize the dataset in a barchart like format to see the highlights of the sentiment of stocks over past days"
      ]
    },
    {
      "cell_type": "code",
      "metadata": {
        "colab": {
          "base_uri": "https://localhost:8080/",
          "height": 344
        },
        "id": "-HmCNUKwKoLb",
        "outputId": "70a6e112-9242-4834-c9c2-e52870336ca7"
      },
      "source": [
        "df['date'] = pd.to_datetime(df.date).dt.date\n",
        "\n",
        "plt.figure(figsize=(10,8))\n",
        "\n",
        "mean_df = df.groupby(['ticker', 'date']).mean()\n",
        "mean_df = mean_df.unstack()\n",
        "mean_df = mean_df.xs('compound', axis=\"columns\").transpose()\n",
        "mean_df.plot(kind='bar')\n",
        "plt.show()"
      ],
      "execution_count": 8,
      "outputs": [
        {
          "output_type": "display_data",
          "data": {
            "text/plain": [
              "<Figure size 720x576 with 0 Axes>"
            ]
          },
          "metadata": {
            "tags": []
          }
        },
        {
          "output_type": "display_data",
          "data": {
            "image/png": "[encoded data removed]",
            "text/plain": [
              "<Figure size 432x288 with 1 Axes>"
            ]
          },
          "metadata": {
            "tags": [],
            "needs_background": "light"
          }
        }
      ]
    }
  ]
}